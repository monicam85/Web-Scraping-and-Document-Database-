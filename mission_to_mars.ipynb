{
 "cells": [
  {
   "cell_type": "code",
   "execution_count": 1,
   "metadata": {},
   "outputs": [],
   "source": [
    "from splinter import Browser\n",
    "from bs4 import BeautifulSoup\n",
    "import requests\n",
    "import pymongo\n",
    "import re\n",
    "import pandas as pd\n",
    "import time"
   ]
  },
  {
   "cell_type": "code",
   "execution_count": 2,
   "metadata": {},
   "outputs": [],
   "source": [
    "def startBrowser():\n",
    "    global browser\n",
    "    executable_path = {'executable_path': 'c:\\chromedriver\\chromedriver.exe'}\n",
    "    browser = Browser('chrome', **executable_path)"
   ]
  },
  {
   "cell_type": "code",
   "execution_count": 3,
   "metadata": {},
   "outputs": [],
   "source": [
    "def getNews():\n",
    "    startBrowser()\n",
    "    url = 'https://mars.nasa.gov/news'\n",
    "    browser.visit(url)\n",
    "\n",
    "    html = browser.html\n",
    "    soup = BeautifulSoup(html, 'html.parser')\n",
    "\n",
    "    result = soup.find(attrs={\"class\": \"list_text\"})\n",
    "\n",
    "    with browser:\n",
    "        try:\n",
    "            # Identify and return title of news\n",
    "            news_title = result.a.text\n",
    "            # Identify and return news paragraph\n",
    "            news_p = result.find(attrs={\"class\": \"article_teaser_body\"}).text\n",
    "\n",
    "            # Run only if news title, and paragraph are available\n",
    "            if (news_title and news_p):\n",
    "\n",
    "                # Dictionary to be inserted as a MongoDB document\n",
    "                post = {\n",
    "                    'title': news_title,\n",
    "                    'news_p': news_p,\n",
    "                }\n",
    "        except Exception as e:\n",
    "            print(e)  \n",
    "    return post"
   ]
  },
  {
   "cell_type": "code",
   "execution_count": 4,
   "metadata": {},
   "outputs": [],
   "source": [
    "def getFeaturedImage():\n",
    "    startBrowser()\n",
    "    img_url = 'https://www.jpl.nasa.gov/spaceimages/?search=&category=Mars'\n",
    "    img_url_base= img_url[:24]\n",
    "    featured_image_url =[]\n",
    "\n",
    "    browser.visit(img_url)\n",
    "\n",
    "    html = browser.html\n",
    "    soup = BeautifulSoup(html, 'html.parser')\n",
    "    browser.click_link_by_partial_text('FULL IMAGE')\n",
    "    time.sleep(4)\n",
    "    with browser:\n",
    "        html = browser.html\n",
    "        soup = BeautifulSoup(html, 'html.parser')\n",
    "        featured_image_url = soup.find('img', attrs={\"class\": \"fancybox-image\"})['src']\n",
    "        featured_image_url = img_url_base + featured_image_url\n",
    "    return featured_image_url"
   ]
  },
  {
   "cell_type": "code",
   "execution_count": 5,
   "metadata": {},
   "outputs": [],
   "source": [
    "def getWeather():\n",
    "    startBrowser()\n",
    "    weather_url = 'https://twitter.com/marswxreport?lang=en'\n",
    "    browser.visit(weather_url)\n",
    "    with browser:\n",
    "        html = browser.html\n",
    "        soup = BeautifulSoup(html, 'html.parser')\n",
    "        mars_weather = soup.find(text=re.compile('Sol'))\n",
    "    return mars_weather"
   ]
  },
  {
   "cell_type": "code",
   "execution_count": 6,
   "metadata": {},
   "outputs": [],
   "source": [
    "def getFacts():\n",
    "    startBrowser()\n",
    "    mars_facts_url = 'https://space-facts.com/mars/'\n",
    "    results = pd.read_html(mars_facts_url, attrs={'id': 'tablepress-mars'}, flavor=['bs4'])\n",
    "    keys=[]\n",
    "    values =[]\n",
    "    for key, value in results[0]._values:\n",
    "        keys.append(key.strip(':'))\n",
    "        values.append(value)\n",
    "    mars_facts = dict(zip(keys, values))\n",
    "    return mars_facts"
   ]
  },
  {
   "cell_type": "code",
   "execution_count": 7,
   "metadata": {},
   "outputs": [],
   "source": [
    "def getHemisphereImages():\n",
    "    startBrowser()\n",
    "    img_hemis_url = 'https://astrogeology.usgs.gov/search/results?q=hemisphere+enhanced&k1=target&v1=Mars'\n",
    "    img_hemis_url_base = img_hemis_url[:29]\n",
    "    hemisphere_image_urls = []\n",
    "    browser.visit(img_hemis_url)\n",
    "\n",
    "    html = browser.html\n",
    "    soup = BeautifulSoup(html, 'html.parser')\n",
    "\n",
    "    links_found = soup.find_all(attrs={\"class\": 'description'})\n",
    "\n",
    "    with browser:\n",
    "        for link in links_found:\n",
    "            try:\n",
    "                title = link.a.text\n",
    "                browser.click_link_by_partial_text(title)\n",
    "                curr_html = browser.html\n",
    "                soup = BeautifulSoup(curr_html, 'html.parser')\n",
    "                result = [x['src'] for x in soup.findAll('img', attrs={\"class\": \"wide-image\"})]\n",
    "                img_url = img_hemis_url_base + result[0]\n",
    "                img_dict = {'title': title, 'img_url': img_url}\n",
    "                hemisphere_image_urls.append(img_dict)\n",
    "            except Exception as e:\n",
    "                print(e)\n",
    "            finally:\n",
    "                browser.back()\n",
    "    return hemisphere_image_urls"
   ]
  },
  {
   "cell_type": "code",
   "execution_count": 8,
   "metadata": {},
   "outputs": [],
   "source": [
    "latest_news = getNews()"
   ]
  },
  {
   "cell_type": "code",
   "execution_count": 9,
   "metadata": {},
   "outputs": [
    {
     "name": "stdout",
     "output_type": "stream",
     "text": [
      "Mars Lastest New\n",
      " NASA InSight Mission to Mars Arrives at Launch Site \n",
      "NASA's InSight spacecraft has arrived at Vandenberg Air Force Base in central California to begin final preparations for a launch this May.\n"
     ]
    }
   ],
   "source": [
    "print('Mars Lastest New\\n {} \\n {}' .format(latest_news['title'], latest_news['news_p']))"
   ]
  },
  {
   "cell_type": "code",
   "execution_count": 10,
   "metadata": {},
   "outputs": [
    {
     "name": "stdout",
     "output_type": "stream",
     "text": [
      "URL to Featured Image \n",
      "https://www.jpl.nasa.gov/spaceimages/images/mediumsize/PIA11777_ip.jpg\n"
     ]
    }
   ],
   "source": [
    "FeaturedImageURL = getFeaturedImage()\n",
    "print('URL to Featured Image \\n{}' .format(FeaturedImageURL))"
   ]
  },
  {
   "cell_type": "code",
   "execution_count": 11,
   "metadata": {},
   "outputs": [
    {
     "data": {
      "text/html": [
       "<div>\n",
       "<style scoped>\n",
       "    .dataframe tbody tr th:only-of-type {\n",
       "        vertical-align: middle;\n",
       "    }\n",
       "\n",
       "    .dataframe tbody tr th {\n",
       "        vertical-align: top;\n",
       "    }\n",
       "\n",
       "    .dataframe thead th {\n",
       "        text-align: right;\n",
       "    }\n",
       "</style>\n",
       "<table border=\"1\" class=\"dataframe\">\n",
       "  <thead>\n",
       "    <tr style=\"text-align: right;\">\n",
       "      <th></th>\n",
       "      <th>Equatorial Diameter</th>\n",
       "      <th>First Record</th>\n",
       "      <th>Mass</th>\n",
       "      <th>Moons</th>\n",
       "      <th>Orbit Distance</th>\n",
       "      <th>Orbit Period</th>\n",
       "      <th>Polar Diameter</th>\n",
       "      <th>Recorded By</th>\n",
       "      <th>Surface Temperature</th>\n",
       "    </tr>\n",
       "  </thead>\n",
       "  <tbody>\n",
       "    <tr>\n",
       "      <th>Facts</th>\n",
       "      <td>6,792 km</td>\n",
       "      <td>2nd millennium BC</td>\n",
       "      <td>6.42 x 10^23 kg (10.7% Earth)</td>\n",
       "      <td>2 (Phobos &amp; Deimos)</td>\n",
       "      <td>227,943,824 km (1.52 AU)</td>\n",
       "      <td>687 days (1.9 years)</td>\n",
       "      <td>6,752 km</td>\n",
       "      <td>Egyptian astronomers</td>\n",
       "      <td>-153 to 20 °C</td>\n",
       "    </tr>\n",
       "  </tbody>\n",
       "</table>\n",
       "</div>"
      ],
      "text/plain": [
       "      Equatorial Diameter       First Record                           Mass  \\\n",
       "Facts            6,792 km  2nd millennium BC  6.42 x 10^23 kg (10.7% Earth)   \n",
       "\n",
       "                     Moons            Orbit Distance          Orbit Period  \\\n",
       "Facts  2 (Phobos & Deimos)  227,943,824 km (1.52 AU)  687 days (1.9 years)   \n",
       "\n",
       "      Polar Diameter           Recorded By Surface Temperature  \n",
       "Facts       6,752 km  Egyptian astronomers       -153 to 20 °C  "
      ]
     },
     "execution_count": 11,
     "metadata": {},
     "output_type": "execute_result"
    }
   ],
   "source": [
    "mars_facts = getFacts()\n",
    "pd.DataFrame(mars_facts, index=['Facts'])"
   ]
  },
  {
   "cell_type": "code",
   "execution_count": 12,
   "metadata": {},
   "outputs": [
    {
     "name": "stdout",
     "output_type": "stream",
     "text": [
      "Lastest Weather\n",
      "Sol 1981 (March 03, 2018), Sunny, high -10C/14F, low -75C/-103F, pressure at 7.25 hPa, daylight 05:36-17:25\n"
     ]
    }
   ],
   "source": [
    "weather = getWeather()\n",
    "print('Lastest Weather\\n{}' .format(weather))\n"
   ]
  },
  {
   "cell_type": "code",
   "execution_count": 13,
   "metadata": {},
   "outputs": [],
   "source": [
    "hemisphereImages = getHemisphereImages()\n"
   ]
  },
  {
   "cell_type": "code",
   "execution_count": 14,
   "metadata": {},
   "outputs": [
    {
     "name": "stdout",
     "output_type": "stream",
     "text": [
      "Title: Cerberus Hemisphere Enhanced\n",
      " URL:\n",
      " https://astrogeology.usgs.gov/cache/images/cfa62af2557222a02478f1fcd781d445_cerberus_enhanced.tif_full.jpg\n",
      "Title: Schiaparelli Hemisphere Enhanced\n",
      " URL:\n",
      " https://astrogeology.usgs.gov/cache/images/3cdd1cbf5e0813bba925c9030d13b62e_schiaparelli_enhanced.tif_full.jpg\n",
      "Title: Syrtis Major Hemisphere Enhanced\n",
      " URL:\n",
      " https://astrogeology.usgs.gov/cache/images/ae209b4e408bb6c3e67b6af38168cf28_syrtis_major_enhanced.tif_full.jpg\n",
      "Title: Valles Marineris Hemisphere Enhanced\n",
      " URL:\n",
      " https://astrogeology.usgs.gov/cache/images/7cf2da4bf549ed01c17f206327be4db7_valles_marineris_enhanced.tif_full.jpg\n"
     ]
    }
   ],
   "source": [
    "for value in hemisphereImages:\n",
    "    print('Title: {}\\n URL:\\n {}' .format(value['title'], value['img_url']))"
   ]
  }
 ],
 "metadata": {
  "kernelspec": {
   "display_name": "Python 3",
   "language": "python",
   "name": "python3"
  },
  "language_info": {
   "codemirror_mode": {
    "name": "ipython",
    "version": 3
   },
   "file_extension": ".py",
   "mimetype": "text/x-python",
   "name": "python",
   "nbconvert_exporter": "python",
   "pygments_lexer": "ipython3",
   "version": "3.6.3"
  }
 },
 "nbformat": 4,
 "nbformat_minor": 2
}
